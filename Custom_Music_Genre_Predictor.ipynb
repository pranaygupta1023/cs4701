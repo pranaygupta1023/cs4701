{
  "nbformat": 4,
  "nbformat_minor": 0,
  "metadata": {
    "colab": {
      "provenance": []
    },
    "kernelspec": {
      "name": "python3",
      "display_name": "Python 3"
    },
    "language_info": {
      "name": "python"
    }
  },
  "cells": [
    {
      "cell_type": "code",
      "execution_count": 27,
      "metadata": {
        "colab": {
          "base_uri": "https://localhost:8080/"
        },
        "id": "VGKEHFKdYUdI",
        "outputId": "80b6623a-98f7-44bd-d94d-a7cba46291dc"
      },
      "outputs": [
        {
          "output_type": "stream",
          "name": "stderr",
          "text": [
            "/usr/local/lib/python3.10/dist-packages/sklearn/base.py:439: UserWarning: X does not have valid feature names, but StandardScaler was fitted with feature names\n",
            "  warnings.warn(\n"
          ]
        },
        {
          "output_type": "stream",
          "name": "stdout",
          "text": [
            "1/1 [==============================] - 0s 151ms/step\n",
            "reggae\n"
          ]
        }
      ],
      "source": [
        "import librosa\n",
        "import numpy as np\n",
        "from sklearn.preprocessing import LabelEncoder\n",
        "from sklearn.preprocessing import StandardScaler\n",
        "from tensorflow.keras.models import load_model\n",
        "import joblib\n",
        "\n",
        "def extract_features(file_path):\n",
        "    # Load the audio file\n",
        "    y, sr = librosa.load(file_path, sr=None)  # loading original music composition\n",
        "\n",
        "    # Extract features in the order specified in the dataset\n",
        "    features = []\n",
        "    features.append(661794) #placeholder for 'length' value in dataset that doesn't play a role in classification\n",
        "\n",
        "    # Chroma STFT\n",
        "    chroma_stft = librosa.feature.chroma_stft(y=y, sr=sr)\n",
        "    features.extend([np.mean(chroma_stft), np.var(chroma_stft)])\n",
        "\n",
        "    # RMS\n",
        "    rms = librosa.feature.rms(y=y)\n",
        "    features.extend([np.mean(rms), np.var(rms)])\n",
        "\n",
        "    # Spectral features\n",
        "    spectral_centroids = librosa.feature.spectral_centroid(y=y, sr=sr)\n",
        "    features.extend([np.mean(spectral_centroids), np.var(spectral_centroids)])\n",
        "\n",
        "    spectral_bandwidth = librosa.feature.spectral_bandwidth(y=y, sr=sr)\n",
        "    features.extend([np.mean(spectral_bandwidth), np.var(spectral_bandwidth)])\n",
        "\n",
        "    rolloff = librosa.feature.spectral_rolloff(y=y, sr=sr)\n",
        "    features.extend([np.mean(rolloff), np.var(rolloff)])\n",
        "\n",
        "    # Zero Crossing Rate\n",
        "    zero_crossings = librosa.feature.zero_crossing_rate(y)\n",
        "    features.extend([np.mean(zero_crossings), np.var(zero_crossings)])\n",
        "\n",
        "    # Harmony and Perceptrum\n",
        "    harmony, perceptr = librosa.effects.hpss(y)\n",
        "    features.extend([np.mean(harmony), np.var(harmony), np.mean(perceptr), np.var(perceptr)])\n",
        "\n",
        "    # Tempo\n",
        "    tempo, _ = librosa.beat.beat_track(y=y, sr=sr)\n",
        "    features.append(tempo)\n",
        "\n",
        "    # MFCCs\n",
        "    mfccs = librosa.feature.mfcc(y=y, sr=sr, n_mfcc=20)\n",
        "    for i in range(20):\n",
        "        features.extend([np.mean(mfccs[i]), np.var(mfccs[i])])\n",
        "\n",
        "    return np.array(features)\n",
        "\n",
        "def predict_genre(model, scaler, label_encoder, features):\n",
        "    scaled_features = scaler.transform([features])\n",
        "    reshaped_features = scaled_features.reshape(1, scaled_features.shape[1], 1)\n",
        "    prediction = model.predict(reshaped_features)\n",
        "    predicted_index = np.argmax(prediction, axis=1)\n",
        "    predicted_genre = label_encoder.inverse_transform(predicted_index)\n",
        "    return predicted_genre[0]\n",
        "\n",
        "# Example usage\n",
        "file_path = '/content/metal - Break It Down.wav'\n",
        "features = extract_features(file_path)\n",
        "model = load_model('/content/hyperparameter_optimized.h5')\n",
        "scaler = joblib.load('/content/scaler.pkl')  # Load the fitted scaler\n",
        "label_encoder = joblib.load('/content/label_encoder.pkl')  # Load the fitted label encoder\n",
        "\n",
        "print(predict_genre(model, scaler, label_encoder, features))\n"
      ]
    }
  ]
}